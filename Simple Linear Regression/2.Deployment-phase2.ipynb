{
 "cells": [
  {
   "cell_type": "code",
   "execution_count": 1,
   "id": "f09b34f9-e1b4-4851-9d5b-560d280daa44",
   "metadata": {},
   "outputs": [],
   "source": [
    "import pickle#by creating new python file we are importing the saved model\n",
    "#deploying by rename the model name"
   ]
  },
  {
   "cell_type": "code",
   "execution_count": 4,
   "id": "91d17cc2-fea4-41bc-8817-be31b7948a47",
   "metadata": {},
   "outputs": [
    {
     "name": "stderr",
     "output_type": "stream",
     "text": [
      "C:\\Users\\SMART\\anaconda3\\Lib\\site-packages\\sklearn\\base.py:493: UserWarning: X does not have valid feature names, but LinearRegression was fitted with feature names\n",
      "  warnings.warn(\n"
     ]
    }
   ],
   "source": [
    "loaded_model=pickle.load(open(\"finalized_model_linear.sav\",'rb'))#copy the loaded model and paste from the phase1\n",
    "result=loaded_model.predict([[0]])#if we are run for 0 we can find the bias/origin value for the intercept"
   ]
  },
  {
   "cell_type": "code",
   "execution_count": 5,
   "id": "c780ed8c-fcd0-46bf-b21d-a6afbe9377e9",
   "metadata": {},
   "outputs": [
    {
     "data": {
      "text/plain": [
       "array([[26777.3913412]])"
      ]
     },
     "execution_count": 5,
     "metadata": {},
     "output_type": "execute_result"
    }
   ],
   "source": [
    "result#from the predicted value we got the bias value"
   ]
  },
  {
   "cell_type": "code",
   "execution_count": null,
   "id": "62721eb0-4542-4a1c-9ac7-d6dad5c2e3c3",
   "metadata": {},
   "outputs": [],
   "source": []
  }
 ],
 "metadata": {
  "kernelspec": {
   "display_name": "Python 3 (ipykernel)",
   "language": "python",
   "name": "python3"
  },
  "language_info": {
   "codemirror_mode": {
    "name": "ipython",
    "version": 3
   },
   "file_extension": ".py",
   "mimetype": "text/x-python",
   "name": "python",
   "nbconvert_exporter": "python",
   "pygments_lexer": "ipython3",
   "version": "3.12.7"
  }
 },
 "nbformat": 4,
 "nbformat_minor": 5
}
